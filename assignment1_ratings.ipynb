{
 "cells": [
  {
   "cell_type": "code",
   "execution_count": 148,
   "metadata": {
    "collapsed": true
   },
   "outputs": [],
   "source": [
    "import gzip\n",
    "from collections import defaultdict\n",
    "import re\n",
    "import numpy\n",
    "import matplotlib.pyplot as plt\n",
    "import sklearn.linear_model as skl\n",
    "\n",
    "\n",
    "\n",
    "def readGz(f):\n",
    "  for l in gzip.open(f):\n",
    "    yield eval(l)\n",
    "\n",
    "reviews = []\n",
    "\n",
    "for l in readGz(\"train.json.gz\"):\n",
    "    reviews.append(l)\n",
    "\n",
    "reviews_train = reviews[:100000]\n",
    "reviews_validation = reviews[100000:]"
   ]
  },
  {
   "cell_type": "code",
   "execution_count": 182,
   "metadata": {},
   "outputs": [],
   "source": [
    "def trainAlpha(userToItemDict,betaU,betaI):\n",
    "    alphaSum = 0.0\n",
    "    for userId in userToItemDict:\n",
    "        for itemId in userToItemDict[userId]:\n",
    "            alphaSum += userToItemDict[userId][itemId] - (betaU[userId] + betaI[itemId])\n",
    "    # alpha = float(alphaSum) / float(len(reviews_train))\n",
    "    alpha = float(alphaSum) / float(len(reviews))\n",
    "    return alpha\n",
    "\n",
    "def trainBetaU(userToItemDict, alpha, betaU, betaI):\n",
    "    for userId in userToItemDict:\n",
    "        betaUSum = 0.0\n",
    "        for itemId in userToItemDict[userId]:\n",
    "            betaUSum += userToItemDict[userId][itemId] - (alpha + betaI[itemId])\n",
    "        betaU[userId] = float(betaUSum) / float(lam + len(userToItemDict[userId]))\n",
    "    return betaU\n",
    "\n",
    "\n",
    "def trainBetaI(itemToUserDict,alpha, betaU, betaI):\n",
    "    for itemId in itemToUserDict:\n",
    "        betaISum = 0.0\n",
    "        for userId in itemToUserDict[itemId]:\n",
    "            betaISum += itemToUserDict[itemId][userId] - (alpha + betaU[userId])\n",
    "        betaI[itemId] = float(betaISum) / float(lam + len(itemToUserDict[itemId]))\n",
    "    return betaI\n",
    "\n",
    "def trainGammaU(userToItemDict, alpha, betaU, betaI):\n",
    "    for userId in userToItemDict:\n",
    "        betaUSum = 0.0\n",
    "        for itemId in userToItemDict[userId]:\n",
    "            betaUSum += userToItemDict[userId][itemId] - (alpha + betaI[itemId])\n",
    "        betaU[userId] = float(betaUSum) / float(lam + len(userToItemDict[userId]))\n",
    "    return betaU\n",
    "\n",
    "def getMSESum(userToItemDict,alpha,betaU,betaI):\n",
    "    errorSum = 0.0\n",
    "    for userId in userToItemDict:\n",
    "        for itemId in userToItemDict[userId]:\n",
    "            if userId not in betaU:\n",
    "                betaU[userId] = 0.0\n",
    "\n",
    "            if itemId not in betaI:\n",
    "                betaI[itemId] = 0.0\n",
    "\n",
    "            prediction = alpha + betaU[userId] + betaI[itemId]\n",
    "            error = prediction - userToItemDict[userId][itemId]\n",
    "            errorSum += error ** 2\n",
    "    return errorSum\n",
    "\n",
    "def trainModel(userToItemDict, itemToUserDict, alpha, betaU, betaI, lam):\n",
    "    objectiveSum  = 100000\n",
    "    newObjectiveSum = 1\n",
    "    steps = 100\n",
    "    while steps > 0:\n",
    "        steps -= 1\n",
    "        # Train alpha\n",
    "        alpha = trainAlpha(userToItemDict,betaU,betaI)\n",
    "\n",
    "        # Train Beta U\n",
    "        betaU = trainBetaU(userToItemDict,alpha, betaU, betaI)\n",
    "\n",
    "        # Train Beta I\n",
    "        betaI = trainBetaI(itemToUserDict,alpha, betaU, betaI)\n",
    "\n",
    "        Check convergence\n",
    "        newErrorSum = getMSESum(userToItemDict,alpha,betaU,betaI)\n",
    "        errorSum = getMSESum(userToItemDict,alpha,betaU,betaI)\n",
    "\n",
    "        betaUSum = 0.0\n",
    "        for userId in userToItemDict:\n",
    "            betaUSum += betaU[userId] ** 2\n",
    "\n",
    "        betaISum = 0.0\n",
    "        for itemId in itemToUserDict:\n",
    "            betaISum += betaI[itemId] ** 2\n",
    "\n",
    "        newObjectiveSum = errorSum + lam*(betaUSum + betaISum)\n",
    "        diff = objectiveSum - newObjectiveSum\n",
    "        if diff < 0.0001:\n",
    "            break\n",
    "        objectiveSum = newObjectiveSum\n",
    "        print(alpha)\n",
    "    return alpha, betaU, betaI, newObjectiveSum"
   ]
  },
  {
   "cell_type": "code",
   "execution_count": 172,
   "metadata": {},
   "outputs": [],
   "source": [
    "# Training rating(u,i) = alpha + betaU + betaI\n",
    "\n",
    "userToItemDict = defaultdict(dict)\n",
    "itemToUserDict = defaultdict(dict)\n",
    "# for review in reviews_train:\n",
    "for review in reviews:\n",
    "    userId, itemId = review['reviewerID'],review['itemID']\n",
    "    userToItemDict[userId][itemId] = review['rating']\n",
    "    itemToUserDict[itemId][userId] = review['rating']"
   ]
  },
  {
   "cell_type": "code",
   "execution_count": 1,
   "metadata": {
    "collapsed": false
   },
   "outputs": [],
   "source": [
    ""
   ]
  },
  {
   "cell_type": "code",
   "execution_count": 125,
   "metadata": {},
   "outputs": [],
   "source": [
    ""
   ]
  },
  {
   "cell_type": "code",
   "execution_count": 184,
   "metadata": {},
   "outputs": [],
   "source": [
    "totalRating = sum([x['rating'] for x in reviews])\n",
    "averageRating = totalRating/len(reviews)"
   ]
  },
  {
   "cell_type": "code",
   "execution_count": 185,
   "metadata": {
    "collapsed": true
   },
   "outputs": [],
   "source": [
    "# initializing random alpha and beta values\n",
    "alpha = averageRating\n",
    "betaU = {userId:0.0 for userId in userToItemDict}\n",
    "betaI = {itemId:0.0 for itemId in itemToUserDict}\n",
    "# lam = 1\n",
    "lam = 6\n",
    "alpha, betaU, betaI ,objectiveSum = trainModel(userToItemDict, itemToUserDict, alpha,betaU,betaI, lam)"
   ]
  },
  {
   "cell_type": "code",
   "execution_count": 1,
   "metadata": {},
   "outputs": [],
   "source": [
    ""
   ]
  },
  {
   "cell_type": "code",
   "execution_count": 161,
   "metadata": {},
   "outputs": [
    {
     "name": "stdout",
     "output_type": "stream",
     "text": [
      "QN 6\nMean Squared Error =  1.1396117754860262\n"
     ]
    }
   ],
   "source": [
    "userToItemDict_validation = defaultdict(dict)\n",
    "itemToUserDict_validation = defaultdict(dict)\n",
    "for review in reviews_validation:\n",
    "    userId, itemId = review['reviewerID'],review['itemID']\n",
    "    userToItemDict_validation[userId][itemId] = review['rating']\n",
    "    itemToUserDict_validation[itemId][userId] = review['rating']\n",
    "    \n",
    "errorSum = getMSESum(userToItemDict_validation,alpha,betaU,betaI)\n",
    "mse = errorSum / len(reviews_validation)"
   ]
  },
  {
   "cell_type": "code",
   "execution_count": 146,
   "metadata": {
    "collapsed": true
   },
   "outputs": [
    {
     "ename": "KeyError",
     "evalue": "'I238897042'",
     "traceback": [
      "\u001b[0;31m---------------------------------------------------------------------------\u001b[0m",
      "\u001b[0;31mKeyError\u001b[0m                                  Traceback (most recent call last)",
      "\u001b[0;32m<ipython-input-146-acc2fedd895c>\u001b[0m in \u001b[0;36m<module>\u001b[0;34m()\u001b[0m\n\u001b[1;32m      7\u001b[0m \u001b[0mobjectiveSum\u001b[0m \u001b[0;34m=\u001b[0m \u001b[0;36m100000\u001b[0m\u001b[0;34m\u001b[0m\u001b[0m\n\u001b[1;32m      8\u001b[0m \u001b[0;32mwhile\u001b[0m \u001b[0;32mTrue\u001b[0m\u001b[0;34m:\u001b[0m\u001b[0;34m\u001b[0m\u001b[0m\n\u001b[0;32m----> 9\u001b[0;31m     \u001b[0malpha\u001b[0m\u001b[0;34m,\u001b[0m \u001b[0mbetaU\u001b[0m\u001b[0;34m,\u001b[0m \u001b[0mbetaI\u001b[0m \u001b[0;34m,\u001b[0m\u001b[0mnewObjectiveSum\u001b[0m \u001b[0;34m=\u001b[0m \u001b[0mtrainModel\u001b[0m\u001b[0;34m(\u001b[0m\u001b[0muserToItemDict_validation\u001b[0m\u001b[0;34m,\u001b[0m \u001b[0mitemToUserDict_validation\u001b[0m\u001b[0;34m,\u001b[0m \u001b[0malpha\u001b[0m\u001b[0;34m,\u001b[0m\u001b[0mbetaU\u001b[0m\u001b[0;34m,\u001b[0m\u001b[0mbetaI\u001b[0m\u001b[0;34m,\u001b[0m \u001b[0mlam\u001b[0m\u001b[0;34m)\u001b[0m\u001b[0;34m\u001b[0m\u001b[0m\n\u001b[0m\u001b[1;32m     10\u001b[0m     \u001b[0mprint\u001b[0m\u001b[0;34m(\u001b[0m\u001b[0mnewObjectiveSum\u001b[0m\u001b[0;34m)\u001b[0m\u001b[0;34m\u001b[0m\u001b[0m\n\u001b[1;32m     11\u001b[0m     \u001b[0;32mif\u001b[0m \u001b[0mnewObjectiveSum\u001b[0m \u001b[0;34m>\u001b[0m \u001b[0mobjectiveSum\u001b[0m\u001b[0;34m:\u001b[0m\u001b[0;34m\u001b[0m\u001b[0m\n",
      "\u001b[0;32m<ipython-input-133-0bc351ee156b>\u001b[0m in \u001b[0;36mtrainModel\u001b[0;34m(userToItemDict, itemToUserDict, alpha, betaU, betaI, lam)\u001b[0m\n\u001b[1;32m     53\u001b[0m         \u001b[0msteps\u001b[0m \u001b[0;34m-=\u001b[0m \u001b[0;36m1\u001b[0m\u001b[0;34m\u001b[0m\u001b[0m\n\u001b[1;32m     54\u001b[0m         \u001b[0;31m# Train alpha\u001b[0m\u001b[0;34m\u001b[0m\u001b[0;34m\u001b[0m\u001b[0m\n\u001b[0;32m---> 55\u001b[0;31m         \u001b[0malpha\u001b[0m \u001b[0;34m=\u001b[0m \u001b[0mtrainAlpha\u001b[0m\u001b[0;34m(\u001b[0m\u001b[0muserToItemDict\u001b[0m\u001b[0;34m,\u001b[0m\u001b[0mbetaU\u001b[0m\u001b[0;34m,\u001b[0m\u001b[0mbetaI\u001b[0m\u001b[0;34m)\u001b[0m\u001b[0;34m\u001b[0m\u001b[0m\n\u001b[0m\u001b[1;32m     56\u001b[0m \u001b[0;34m\u001b[0m\u001b[0m\n\u001b[1;32m     57\u001b[0m         \u001b[0;31m# Train Beta U\u001b[0m\u001b[0;34m\u001b[0m\u001b[0;34m\u001b[0m\u001b[0m\n",
      "\u001b[0;32m<ipython-input-133-0bc351ee156b>\u001b[0m in \u001b[0;36mtrainAlpha\u001b[0;34m(userToItemDict, betaU, betaI)\u001b[0m\n\u001b[1;32m      3\u001b[0m     \u001b[0;32mfor\u001b[0m \u001b[0muserId\u001b[0m \u001b[0;32min\u001b[0m \u001b[0muserToItemDict\u001b[0m\u001b[0;34m:\u001b[0m\u001b[0;34m\u001b[0m\u001b[0m\n\u001b[1;32m      4\u001b[0m         \u001b[0;32mfor\u001b[0m \u001b[0mitemId\u001b[0m \u001b[0;32min\u001b[0m \u001b[0muserToItemDict\u001b[0m\u001b[0;34m[\u001b[0m\u001b[0muserId\u001b[0m\u001b[0;34m]\u001b[0m\u001b[0;34m:\u001b[0m\u001b[0;34m\u001b[0m\u001b[0m\n\u001b[0;32m----> 5\u001b[0;31m             \u001b[0malphaSum\u001b[0m \u001b[0;34m+=\u001b[0m \u001b[0muserToItemDict\u001b[0m\u001b[0;34m[\u001b[0m\u001b[0muserId\u001b[0m\u001b[0;34m]\u001b[0m\u001b[0;34m[\u001b[0m\u001b[0mitemId\u001b[0m\u001b[0;34m]\u001b[0m \u001b[0;34m-\u001b[0m \u001b[0;34m(\u001b[0m\u001b[0mbetaU\u001b[0m\u001b[0;34m[\u001b[0m\u001b[0muserId\u001b[0m\u001b[0;34m]\u001b[0m \u001b[0;34m+\u001b[0m \u001b[0mbetaI\u001b[0m\u001b[0;34m[\u001b[0m\u001b[0mitemId\u001b[0m\u001b[0;34m]\u001b[0m\u001b[0;34m)\u001b[0m\u001b[0;34m\u001b[0m\u001b[0m\n\u001b[0m\u001b[1;32m      6\u001b[0m     \u001b[0malpha\u001b[0m \u001b[0;34m=\u001b[0m \u001b[0mfloat\u001b[0m\u001b[0;34m(\u001b[0m\u001b[0malphaSum\u001b[0m\u001b[0;34m)\u001b[0m \u001b[0;34m/\u001b[0m \u001b[0mfloat\u001b[0m\u001b[0;34m(\u001b[0m\u001b[0mlen\u001b[0m\u001b[0;34m(\u001b[0m\u001b[0mreviews_train\u001b[0m\u001b[0;34m)\u001b[0m\u001b[0;34m)\u001b[0m\u001b[0;34m\u001b[0m\u001b[0m\n\u001b[1;32m      7\u001b[0m     \u001b[0;32mreturn\u001b[0m \u001b[0malpha\u001b[0m\u001b[0;34m\u001b[0m\u001b[0m\n",
      "\u001b[0;31mKeyError\u001b[0m: 'I238897042'"
     ],
     "output_type": "error"
    }
   ],
   "source": [
    "# TRAINING lambda\n",
    "# # # # # # # # # # # # # # # # # # # # # # # # # # # # # # # # # # # # # # # # # # # # #\n",
    "lam = 1\n",
    "alpha = 0\n",
    "betaU = {userId:0.0 for userId in userToItemDict}\n",
    "betaI = {itemId:0.0 for itemId in itemToUserDict}\n",
    "objectiveSum = 100000\n",
    "while True:\n",
    "    alpha, betaU, betaI ,newObjectiveSum = trainModel(userToItemDict_validation, itemToUserDict_validation, alpha,betaU,betaI, lam)\n",
    "    print(newObjectiveSum)\n",
    "    if newObjectiveSum > objectiveSum:\n",
    "        break\n",
    "    newObjectiveSum = objectiveSum\n",
    "    lam += 0.5"
   ]
  },
  {
   "cell_type": "code",
   "execution_count": 188,
   "metadata": {},
   "outputs": [],
   "source": [
    "# Rating Test\n",
    "\n",
    "avgBetaU = sum(betaU.values()) / len(betaU)\n",
    "avgBetaI = sum(betaI.values()) / len(betaI)\n",
    "\n",
    "index = 0\n",
    "predictions = open(\"predictions_Rating.txt\", 'w')\n",
    "for l in open(\"pairs_Rating.txt\"):\n",
    "    if l.startswith(\"userID\"):\n",
    "        #header\n",
    "        predictions.write(l)\n",
    "        continue\n",
    "    u,i = l.strip().split('-')\n",
    "    if u not in betaU:\n",
    "        # betaU[u] = 0.0\n",
    "        betaU[u] = avgBetaU\n",
    "    if i not in betaI:\n",
    "        # betaI[i] = 0.0\n",
    "        betaI[i] = avgBetaI\n",
    "    prediction = alpha + betaU[u] + betaI[i]\n",
    "    predictions.write(u + '-' + i + ',' + str(prediction) + '\\n')\n",
    "    index += 1\n",
    "predictions.close()"
   ]
  }
 ],
 "metadata": {
  "kernelspec": {
   "display_name": "Python 2",
   "language": "python",
   "name": "python2"
  },
  "language_info": {
   "codemirror_mode": {
    "name": "ipython",
    "version": 2.0
   },
   "file_extension": ".py",
   "mimetype": "text/x-python",
   "name": "python",
   "nbconvert_exporter": "python",
   "pygments_lexer": "ipython2",
   "version": "2.7.6"
  }
 },
 "nbformat": 4,
 "nbformat_minor": 0
}