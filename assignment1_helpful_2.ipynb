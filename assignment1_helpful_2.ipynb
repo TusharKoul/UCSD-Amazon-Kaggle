{
 "cells": [
  {
   "cell_type": "code",
   "execution_count": 23,
   "metadata": {
    "collapsed": true
   },
   "outputs": [],
   "source": [
    "import gzip\n",
    "from collections import defaultdict\n",
    "import re\n",
    "import numpy\n",
    "import matplotlib.pyplot as plt\n",
    "import sklearn.linear_model as skl\n",
    "import math\n",
    "import os\n",
    "\n",
    "def readGz(f):\n",
    "  for l in gzip.open(f):\n",
    "    yield eval(l)"
   ]
  },
  {
   "cell_type": "code",
   "execution_count": 27,
   "metadata": {},
   "outputs": [
    {
     "data": {
      "text/plain": [
       "'/assignment1/train.json.gz'"
      ]
     },
     "execution_count": 27,
     "metadata": {},
     "output_type": "execute_result"
    }
   ],
   "source": [
    "reviews = []\n",
    "\n",
    "for l in readGz(\"/Users/tusharkoul/Desktop/Studies/CSE258/assignment1/train.json.gz\"):\n",
    "    reviews.append(l)\n",
    "\n",
    "reviews_train = reviews[:100000]\n",
    "reviews_validation = reviews[100000:]"
   ]
  },
  {
   "cell_type": "code",
   "execution_count": 42,
   "metadata": {},
   "outputs": [],
   "source": [
    "def feature(review):\n",
    "    reviewWordCounts = len(re.findall(r'\\w+', review['reviewText']))\n",
    "    reviewVoteCount = review['helpful']['outOf']\n",
    "\n",
    "    itemStarRating = review['rating']\n",
    "    itemCategoryId = review['categoryID']\n",
    "\n",
    "    yearMonthFeat = yearMonthOneHotEncoding(review)\n",
    "    genderFeat = genderCategoryEncoding(review)\n",
    "    return [1, reviewWordCounts, reviewVoteCount, reviewVoteCount**2, itemStarRating, itemCategoryId] \\\n",
    "           + yearMonthFeat + genderFeat\n",
    "\n",
    "\n",
    "def yearMonthOneHotEncoding(review):\n",
    "    # one hot encoding for years from 2003 to 2014\n",
    "    reviewTime = review['reviewTime'].split()\n",
    "    reviewYear = int(reviewTime[2])\n",
    "    reviewMonth = int(reviewTime[0])\n",
    "\n",
    "    yearFeat = [0] * 12\n",
    "    baseYear = 2003\n",
    "    yearIndex = reviewYear - baseYear\n",
    "    yearFeat[yearIndex] = 1\n",
    "\n",
    "    # encoding month, no need to encode december\n",
    "    # all 0's means december\n",
    "    monthFeat = [0] * 11\n",
    "    if reviewMonth < 11 :\n",
    "        monthFeat[reviewMonth-1] = 1\n",
    "    return yearFeat + monthFeat\n",
    "\n",
    "# Women = 1, Men = 2, Boys = 3, Girls = 4\n",
    "def genderCategoryEncoding(review):\n",
    "    feature = [0] * 5\n",
    "    for categoryList in review['categories']:\n",
    "        if 'Women' in categoryList:\n",
    "            feature[0] = 1\n",
    "            break\n",
    "        elif 'Men' in categoryList:\n",
    "            feature[1] = 1\n",
    "            break\n",
    "        elif 'Boys' in categoryList:\n",
    "            feature[2] = 1\n",
    "            break\n",
    "        elif 'Girls' in categoryList:\n",
    "            feature[3] = 1\n",
    "            break\n",
    "        elif 'Baby' in categoryList:\n",
    "            feature[4] = 1\n",
    "            break\n",
    "    return feature"
   ]
  },
  {
   "cell_type": "code",
   "execution_count": 10,
   "metadata": {},
   "outputs": [],
   "source": [
    "# TRAINING FOR LOGISTIC REGRESSION\n",
    "# BROKEN DOWN BY outOf -\n",
    "# 0 - 10\n",
    "# 11 - 100\n",
    "# 101 - 200\n",
    "# 200 -\n",
    "X_train1 = [feature(review) for review in reviews_train if 0 < review['helpful']['outOf'] <= 10]\n",
    "Y_train1 = [round(review['helpful']['nHelpful'] / review['helpful']['outOf']) for review in reviews_train\n",
    "           if 0 < review['helpful']['outOf'] <= 10]\n",
    "weights1 = [review['helpful']['outOf'] for review in reviews_train\n",
    "            if 0 < review['helpful']['outOf'] <= 10]\n",
    "\n",
    "X_train2 = [feature(review) for review in reviews_train if 10 < review['helpful']['outOf'] <= 100]\n",
    "Y_train2 = [round(review['helpful']['nHelpful'] / review['helpful']['outOf']) for review in reviews_train\n",
    "           if 10 < review['helpful']['outOf'] <= 100]\n",
    "weights2 = [review['helpful']['outOf'] for review in reviews_train\n",
    "            if 10 < review['helpful']['outOf'] <= 100]\n",
    "\n",
    "X_train3 = [feature(review) for review in reviews_train if 100 < review['helpful']['outOf'] <= 200]\n",
    "Y_train3 = [round(review['helpful']['nHelpful'] / review['helpful']['outOf']) for review in reviews_train\n",
    "           if 100 < review['helpful']['outOf'] <= 200]\n",
    "weights3 = [review['helpful']['outOf'] for review in reviews_train\n",
    "            if 100 < review['helpful']['outOf'] <= 200]\n",
    "\n",
    "X_train4 = [feature(review) for review in reviews_train if review['helpful']['outOf'] > 200]\n",
    "Y_train4 = [round(review['helpful']['nHelpful'] / review['helpful']['outOf']) for review in reviews_train\n",
    "           if review['helpful']['outOf'] > 200]\n",
    "weights4 = [review['helpful']['outOf'] for review in reviews_train\n",
    "            if review['helpful']['outOf'] > 200]"
   ]
  },
  {
   "cell_type": "code",
   "execution_count": 48,
   "metadata": {},
   "outputs": [],
   "source": [
    "# MULTIPLE MODELS\n",
    "\n",
    "# FITTING USING LINEAR REGRESSION WITH REGULARIZATION\n",
    "# # # # # # # # # # # # # # # # # # # # # # # # # # # # # # # # # # #\n",
    "# weights = [review['helpful']['outOf'] for review in reviews_train if review['helpful']['outOf'] > 0 ]\n",
    "\n",
    "clf = skl.LogisticRegression()\n",
    "clf.fit(X_train1, Y_train1, weights1)\n",
    "# clf.fit(X_train1, Y_train1)\n",
    "theta1 = clf.coef_\n",
    "\n",
    "# clf.fit(X_train2, Y_train2)\n",
    "clf.fit(X_train2, Y_train2, weights2)\n",
    "theta2 = clf.coef_\n",
    "\n",
    "# clf.fit(X_train3, Y_train3)\n",
    "clf.fit(X_train3, Y_train3, weights3)\n",
    "theta3 = clf.coef_\n",
    "\n",
    "# clf.fit(X_train4, Y_train4)\n",
    "clf.fit(X_train4, Y_train4, weights4)\n",
    "theta4 = clf.coef_"
   ]
  },
  {
   "cell_type": "code",
   "execution_count": 50,
   "metadata": {
    "collapsed": true
   },
   "outputs": [
    {
     "name": "stdout",
     "output_type": "stream",
     "text": [
      "\nMean Average Error =  0.1819\n"
     ]
    }
   ],
   "source": [
    "# Error on Validation (LOGISTIC W/O REGULARIZATION)\n",
    "# # # # # # # # # # # # # # # # # # # # # # # # # # # # # # # # # #\n",
    "def sigmoid(x):\n",
    "  return 1 / (1 + math.exp(-x))\n",
    "\n",
    "theta1_matrix = numpy.matrix(numpy.array(theta1))\n",
    "theta2_matrix = numpy.matrix(numpy.array(theta2))\n",
    "theta3_matrix = numpy.matrix(numpy.array(theta3))\n",
    "theta4_matrix = numpy.matrix(numpy.array(theta4))\n",
    "\n",
    "predictions_validation = []\n",
    "for review in reviews_validation:\n",
    "    X = feature(review)\n",
    "    X = numpy.matrix(X)\n",
    "    # prediction = -1\n",
    "    if 0 < review['helpful']['outOf'] <= 10:\n",
    "        prediction = X * theta1_matrix.transpose()\n",
    "    elif 10 < review['helpful']['outOf'] <= 100:\n",
    "        prediction = X * theta2_matrix.transpose()\n",
    "    elif 100 < review['helpful']['outOf'] <= 200:\n",
    "        prediction = X * theta3_matrix.transpose()\n",
    "    elif review['helpful']['outOf'] > 200:\n",
    "        prediction = X * theta4_matrix.transpose()\n",
    "    predicted_helpful = sigmoid(prediction.item(0)) * review['helpful']['outOf']\n",
    "    predictions_validation.append(round(predicted_helpful))\n",
    "\n",
    "abserrors = [abs(review['helpful']['nHelpful'] - predictedHelpful)\n",
    "                for (review,predictedHelpful) in zip(reviews_validation,predictions_validation)]\n",
    "\n",
    "mae = sum(abserrors) / len(abserrors)\n",
    "print('\\nMean Average Error = ',mae)"
   ]
  },
  {
   "cell_type": "code",
   "execution_count": 51,
   "metadata": {},
   "outputs": [],
   "source": [
    "reviews_test = []\n",
    "for l in readGz(\"/Users/tusharkoul/Desktop/Studies/CSE258/assignment1/test_Helpful.json.gz\"):\n",
    "    reviews_test.append(l)\n",
    "\n",
    "predictions_test = []\n",
    "for review in reviews_test:\n",
    "    X = feature(review)\n",
    "    X = numpy.matrix(X)\n",
    "    # prediction = -1\n",
    "    if 0 < review['helpful']['outOf'] <= 10:\n",
    "        prediction = X * theta1_matrix.transpose()\n",
    "    elif 10 < review['helpful']['outOf'] <= 100:\n",
    "        prediction = X * theta2_matrix.transpose()\n",
    "    elif 100 < review['helpful']['outOf'] <= 200:\n",
    "        prediction = X * theta3_matrix.transpose()\n",
    "    elif review['helpful']['outOf'] > 200:\n",
    "        prediction = X * theta4_matrix.transpose()\n",
    "    predicted_helpful = sigmoid(prediction.item(0)) * review['helpful']['outOf']\n",
    "    predictions_test.append(round(predicted_helpful))"
   ]
  },
  {
   "cell_type": "code",
   "execution_count": 52,
   "metadata": {},
   "outputs": [],
   "source": [
    "predictionsFile = open(\"/Users/tusharkoul/Desktop/Studies/CSE258/assignment1/predictions_Helpful.txt\", 'w')\n",
    "index = 0\n",
    "for l in open(\"/Users/tusharkoul/Desktop/Studies/CSE258/assignment1/pairs_Helpful.txt\"):\n",
    "    if l.startswith(\"userID\"):\n",
    "        #header\n",
    "        predictionsFile.write(l)\n",
    "        continue\n",
    "    u,i,outOf = l.strip().split('-')\n",
    "    outOf = int(outOf)\n",
    "    predictionsFile.write(u + '-' + i + '-' + str(outOf) + ',' + str(float(predictions_test[index])) + '\\n')\n",
    "    index += 1\n",
    "predictionsFile.close()"
   ]
  },
  {
   "cell_type": "code",
   "execution_count": 46,
   "metadata": {},
   "outputs": [],
   "source": [
    ""
   ]
  }
 ],
 "metadata": {
  "kernelspec": {
   "display_name": "Python 2",
   "language": "python",
   "name": "python2"
  },
  "language_info": {
   "codemirror_mode": {
    "name": "ipython",
    "version": 2.0
   },
   "file_extension": ".py",
   "mimetype": "text/x-python",
   "name": "python",
   "nbconvert_exporter": "python",
   "pygments_lexer": "ipython2",
   "version": "2.7.6"
  }
 },
 "nbformat": 4,
 "nbformat_minor": 0
}